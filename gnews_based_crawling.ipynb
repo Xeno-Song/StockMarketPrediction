{
 "cells": [
  {
   "cell_type": "code",
   "execution_count": 2,
   "metadata": {},
   "outputs": [],
   "source": [
    "from news_crawlers.yahoo_article_crawler import MultiThreadedYahooNewsCrawler\n",
    "from ipywidgets import IntProgress\n",
    "from IPython.display import display\n",
    "import sys\n",
    "from datetime import datetime"
   ]
  },
  {
   "cell_type": "code",
   "execution_count": 3,
   "metadata": {},
   "outputs": [],
   "source": [
    "keyword = 'APPLE'\n",
    "site = 'finance.yahoo.com'\n",
    "start_date = datetime(year=2013, month=1, day=1)\n",
    "end_date   = datetime(year=2013, month=1, day=7)"
   ]
  },
  {
   "cell_type": "code",
   "execution_count": 4,
   "metadata": {},
   "outputs": [
    {
     "name": "stdout",
     "output_type": "stream",
     "text": [
      "Crawler created : [ start_date:  (2013, 1, 1) , end_date:  (2013, 1, 29) ]\n",
      "Crawler created : [ start_date:  (2013, 1, 30) , end_date:  (2013, 2, 27) ]\n",
      "Crawler created : [ start_date:  (2013, 2, 28) , end_date:  (2013, 3, 28) ]\n",
      "Crawler created : [ start_date:  (2013, 3, 29) , end_date:  (2013, 4, 26) ]\n",
      "Crawler created : [ start_date:  (2013, 4, 27) , end_date:  (2013, 5, 25) ]\n",
      "Crawler created : [ start_date:  (2013, 5, 26) , end_date:  (2013, 6, 23) ]\n",
      "Crawler created : [ start_date:  (2013, 6, 24) , end_date:  (2013, 7, 22) ]\n",
      "Crawler created : [ start_date:  (2013, 7, 23) , end_date:  (2013, 8, 20) ]\n",
      "Crawler created : [ start_date:  (2013, 8, 21) , end_date:  (2013, 9, 18) ]\n",
      "Crawler created : [ start_date:  (2013, 9, 19) , end_date:  (2013, 10, 17) ]\n",
      "Crawler created : [ start_date:  (2013, 10, 18) , end_date:  (2013, 11, 15) ]\n",
      "Crawler created : [ start_date:  (2013, 11, 16) , end_date:  (2013, 12, 14) ]\n",
      "Crawler created : [ start_date:  (2013, 12, 15) , end_date:  (2013, 12, 31) ]\n",
      "Total 13 crawler object has been created.\n"
     ]
    },
    {
     "data": {
      "application/vnd.jupyter.widget-view+json": {
       "model_id": "82e468618e174561b5336e98a609395d",
       "version_major": 2,
       "version_minor": 0
      },
      "text/plain": [
       "IntProgress(value=0)"
      ]
     },
     "metadata": {},
     "output_type": "display_data"
    },
    {
     "name": "stderr",
     "output_type": "stream",
     "text": [
      "c:\\Workspace\\80_Framework\\anaconda\\envs\\FinBERT\\lib\\threading.py:865: UserWarning: Only searches using the function get_news support date ranges. Review the documentation for __search_job for a partial workaround. \n",
      "Start date and end date will be ignored\n",
      "  self._target(*self._args, **self._kwargs)\n"
     ]
    },
    {
     "name": "stdout",
     "output_type": "stream",
     "text": [
      "Progress 7/84 :  8.33%"
     ]
    }
   ],
   "source": [
    "crawler = MultiThreadedYahooNewsCrawler(search=keyword, site=site, start_date=start_date, end_date=end_date)\n",
    "\n",
    "progress = IntProgress(min=0, max=100)\n",
    "display(progress)\n",
    "\n",
    "while True:\n",
    "    state = crawler.wait_for_end(1)\n",
    "    total, current = crawler.get_progress()\n",
    "    percentage = (float(current) / total) * 100 if total is not 0 else 0\n",
    "    progress.value = int(percentage)\n",
    "    \n",
    "    sys.stdout.write(f'\\rProgress {current}/{total} : {format(percentage, \"5.2f\")}%')\n",
    "    sys.stdout.flush()\n",
    "    \n",
    "    if state is True:\n",
    "        break"
   ]
  },
  {
   "cell_type": "code",
   "execution_count": 4,
   "metadata": {},
   "outputs": [
    {
     "name": "stdout",
     "output_type": "stream",
     "text": [
      "File has been saved in ./tmp/APPLE_20130101_20131231.csv\n"
     ]
    }
   ],
   "source": [
    "filepath = f'./tmp/{keyword}_{start_date.strftime(\"%Y%m%d\")}_{end_date.strftime(\"%Y%m%d\")}.csv'\n",
    "crawler.save_as_csv(filepath)\n",
    "print(f'File has been saved in {filepath}')"
   ]
  }
 ],
 "metadata": {
  "kernelspec": {
   "display_name": "FinBERT",
   "language": "python",
   "name": "python3"
  },
  "language_info": {
   "codemirror_mode": {
    "name": "ipython",
    "version": 3
   },
   "file_extension": ".py",
   "mimetype": "text/x-python",
   "name": "python",
   "nbconvert_exporter": "python",
   "pygments_lexer": "ipython3",
   "version": "3.7.1"
  }
 },
 "nbformat": 4,
 "nbformat_minor": 2
}
