{
 "cells": [
  {
   "cell_type": "markdown",
   "metadata": {},
   "source": [
    "#### **Download FinBERT model from Hugging Face**"
   ]
  },
  {
   "cell_type": "code",
   "execution_count": 1,
   "metadata": {},
   "outputs": [],
   "source": [
    "import os\n",
    "\n",
    "if os.path.exists(os.path.abspath('./finbert_model/pytorch_model.bin')) == False:\n",
    "    os.system('git lfs install')\n",
    "    os.system('git clone https://huggingface.co/ProsusAI/finbert finbert_model')"
   ]
  },
  {
   "cell_type": "markdown",
   "metadata": {},
   "source": [
    "#### **Add path to access FinBERT library**"
   ]
  },
  {
   "cell_type": "code",
   "execution_count": 2,
   "metadata": {},
   "outputs": [],
   "source": [
    "import sys\n",
    "import os\n",
    "\n",
    "finbert_path = os.path.abspath('./finbert')\n",
    "if (finbert_path in sys.path) == False:\n",
    "    sys.path.append(finbert_path)"
   ]
  },
  {
   "cell_type": "markdown",
   "metadata": {},
   "source": [
    "#### **Download NLTK tokenizer**"
   ]
  },
  {
   "cell_type": "code",
   "execution_count": 3,
   "metadata": {},
   "outputs": [
    {
     "name": "stderr",
     "output_type": "stream",
     "text": [
      "c:\\Workspace\\80_Framework\\anaconda\\envs\\FinBERT\\lib\\site-packages\\scipy\\__init__.py:149: UserWarning: A NumPy version >=1.16.5 and <1.23.0 is required for this version of SciPy (detected version 1.16.3\n",
      "  UserWarning)\n",
      "[nltk_data] Downloading package punkt to\n",
      "[nltk_data]     C:\\Users\\xenos\\AppData\\Roaming\\nltk_data...\n",
      "[nltk_data]   Package punkt is already up-to-date!\n"
     ]
    },
    {
     "data": {
      "text/plain": [
       "True"
      ]
     },
     "execution_count": 3,
     "metadata": {},
     "output_type": "execute_result"
    }
   ],
   "source": [
    "import nltk\n",
    "nltk.download('punkt')"
   ]
  },
  {
   "cell_type": "markdown",
   "metadata": {},
   "source": [
    "#### **Import libraries**"
   ]
  },
  {
   "cell_type": "code",
   "execution_count": 1,
   "metadata": {},
   "outputs": [
    {
     "ename": "ImportError",
     "evalue": "cannot import name 'predict' from 'finbert.finbert' (c:\\Workspace\\20_stock_market_prediction\\finbert\\finbert\\__init__.py)",
     "output_type": "error",
     "traceback": [
      "\u001b[1;31m---------------------------------------------------------------------------\u001b[0m",
      "\u001b[1;31mImportError\u001b[0m                               Traceback (most recent call last)",
      "\u001b[1;32m~\\AppData\\Local\\Temp\\ipykernel_30072\\1388277891.py\u001b[0m in \u001b[0;36m<module>\u001b[1;34m\u001b[0m\n\u001b[0;32m      5\u001b[0m \u001b[1;32mfrom\u001b[0m \u001b[0mselenium\u001b[0m\u001b[1;33m.\u001b[0m\u001b[0mwebdriver\u001b[0m\u001b[1;33m.\u001b[0m\u001b[0mcommon\u001b[0m\u001b[1;33m.\u001b[0m\u001b[0mby\u001b[0m \u001b[1;32mimport\u001b[0m \u001b[0mBy\u001b[0m\u001b[1;33m\u001b[0m\u001b[1;33m\u001b[0m\u001b[0m\n\u001b[0;32m      6\u001b[0m \u001b[1;32mimport\u001b[0m \u001b[0mdatetime\u001b[0m\u001b[1;33m\u001b[0m\u001b[1;33m\u001b[0m\u001b[0m\n\u001b[1;32m----> 7\u001b[1;33m \u001b[1;32mfrom\u001b[0m \u001b[0mfinbert\u001b[0m\u001b[1;33m.\u001b[0m\u001b[0mfinbert\u001b[0m \u001b[1;32mimport\u001b[0m \u001b[0mpredict\u001b[0m\u001b[1;33m\u001b[0m\u001b[1;33m\u001b[0m\u001b[0m\n\u001b[0m\u001b[0;32m      8\u001b[0m \u001b[1;32mfrom\u001b[0m \u001b[0mtransformers\u001b[0m \u001b[1;32mimport\u001b[0m \u001b[0mAutoModelForSequenceClassification\u001b[0m\u001b[1;33m\u001b[0m\u001b[1;33m\u001b[0m\u001b[0m\n",
      "\u001b[1;31mImportError\u001b[0m: cannot import name 'predict' from 'finbert.finbert' (c:\\Workspace\\20_stock_market_prediction\\finbert\\finbert\\__init__.py)"
     ]
    },
    {
     "ename": "",
     "evalue": "",
     "output_type": "error",
     "traceback": [
      "\u001b[1;31mThe Kernel crashed while executing code in the the current cell or a previous cell. Please review the code in the cell(s) to identify a possible cause of the failure. Click <a href='https://aka.ms/vscodeJupyterKernelCrash'>here</a> for more info. View Jupyter <a href='command:jupyter.viewOutput'>log</a> for further details."
     ]
    }
   ],
   "source": [
    "import time\n",
    "from selenium import webdriver\n",
    "from selenium.webdriver.chrome.service import Service as ChromeService\n",
    "from webdriver_manager.chrome import ChromeDriverManager\n",
    "from selenium.webdriver.common.by import By\n",
    "import datetime\n",
    "from finbert.finbert import predict\n",
    "from transformers import AutoModelForSequenceClassification"
   ]
  },
  {
   "cell_type": "markdown",
   "metadata": {},
   "source": [
    "#### **Create data output directory**"
   ]
  },
  {
   "cell_type": "code",
   "execution_count": null,
   "metadata": {},
   "outputs": [],
   "source": [
    "output_dir = './output'\n",
    "if os.path.exists(output_dir) == False:\n",
    "    os.mkdir(output_dir)"
   ]
  },
  {
   "cell_type": "markdown",
   "metadata": {},
   "source": [
    "#### **Access to Yahoo Finance page**  \n",
    "Open Yahoo finance page using chrome driver and get main page news contents.  \n",
    "News contents is wrapped by `container` class, so first get elements using this class info.  \n",
    "After that, find `a` tag to find link element, and get title and link.  \n",
    "In last, data will save as csv file.  \n",
    "\n",
    "#### **TODO**  \n",
    "Crawl news info from each category. Currently, this crawl main page news only."
   ]
  },
  {
   "cell_type": "code",
   "execution_count": null,
   "metadata": {},
   "outputs": [],
   "source": [
    "chrome_options = webdriver.ChromeOptions()\n",
    "chrome_options.add_argument('--blink-settings=imagesEnabled=false')\n",
    "chrome_options.add_argument(\"--headless\")\n",
    "chrome_options.add_argument(\"--no-sandbox\")\n",
    "chrome_options.add_argument(\"--disable-gpu\")\n",
    "\n",
    "driver = webdriver.Chrome(chrome_options)\n",
    "driver.get('https://finance.yahoo.com/')\n",
    "driver.set_page_load_timeout(30)\n",
    "\n",
    "elements = driver.find_elements(By.CLASS_NAME, 'container')\n",
    "\n",
    "news_titles = []\n",
    "for element in elements:\n",
    "    # content_card = element.find_elements(By.CLASS_NAME, 'content')\n",
    "    title_part = element.find_elements(By.TAG_NAME, 'a')\n",
    "    if len(title_part) == 0:\n",
    "        continue\n",
    "\n",
    "    title = title_part[0].get_attribute('title')\n",
    "    link = title_part[0].get_attribute('href')\n",
    "    news_titles.append((title, link))\n",
    "\n",
    "output_path = os.path.abspath('./output/' + datetime.datetime.now().strftime('%Y%m%d_%H%M%S') + '.csv')\n",
    "with open(output_path, '+w', encoding='utf-8') as f:\n",
    "    f.write('\\n'.join([index[0] for index in news_titles]))\n",
    "    f.close()\n",
    "\n",
    "print(\"Main page news loaded.\")\n",
    "print(f\"{len(elements)} contents found.\")"
   ]
  },
  {
   "cell_type": "markdown",
   "metadata": {},
   "source": [
    "#### **Load each articles contents**"
   ]
  },
  {
   "cell_type": "code",
   "execution_count": null,
   "metadata": {},
   "outputs": [],
   "source": [
    "articles_index = []\n",
    "\n",
    "for target_article in news_titles:\n",
    "    driver.get(target_article[1])\n",
    "    article_content_area = driver.find_elements(By.CLASS_NAME, 'caas-body')\n",
    "    if len(article_content_area) == 0:\n",
    "        continue\n",
    "\n",
    "    article_content = []\n",
    "    contents_components = article_content_area[0].find_elements(By.TAG_NAME, 'p')\n",
    "\n",
    "    for component in contents_components:\n",
    "        content = component.text\n",
    "        if len(content) != 0:\n",
    "            article_content.append(content)\n",
    "    \n",
    "    articles_index.append((target_article[0], article_content))\n",
    "    print(\"Article parsed : \" + target_article[0])"
   ]
  },
  {
   "cell_type": "markdown",
   "metadata": {},
   "source": [
    "#### Open NYTimes page"
   ]
  },
  {
   "cell_type": "code",
   "execution_count": null,
   "metadata": {},
   "outputs": [],
   "source": [
    "import requests\n",
    "import json\n",
    "\n",
    "with open('./tmp/config.json') as json_file:\n",
    "    config = json.load(json_file)\n",
    "\n",
    "api_key = config['api_key']\n",
    "\n",
    "def get_articles(search: str):\n",
    "    params = {\n",
    "        'q': search,\n",
    "        'api-key': api_key\n",
    "    }\n",
    "    res = requests.get('https://api.nytimes.com/svc/search/v2/articlesearch.json', params)\n",
    "    return (res.status_code == 200, json.loads(res.content))\n",
    "\n",
    "def get_article_body(url: str):\n",
    "    res = requests.get('https://www.nytimes.com/2024/05/23/business/apple-iphone-settlement.html')\n",
    "    return (res.status_code == 200, res.content.decode())"
   ]
  },
  {
   "cell_type": "code",
   "execution_count": 17,
   "metadata": {},
   "outputs": [],
   "source": [
    "chrome_options = webdriver.ChromeOptions()\n",
    "chrome_options.add_argument('--blink-settings=imagesEnabled=false')\n",
    "# chrome_options.add_argument(\"--headless\")\n",
    "chrome_options.add_argument(\"--no-sandbox\")\n",
    "chrome_options.add_argument(\"--disable-gpu\")\n",
    "driver = webdriver.Chrome(chrome_options)\n",
    "\n",
    "def get_nytimes_article(url: str):\n",
    "    driver.get(url)\n",
    "    driver.set_page_load_timeout(30)\n",
    "\n",
    "    elements = driver.find_elements(By.CLASS_NAME, 'css-at9mc1')\n",
    "    print(elements)\n",
    "\n",
    "    article_content = []\n",
    "    for element in elements:\n",
    "        content = element.text\n",
    "        if len(content) != 0:\n",
    "            article_content.append(content)\n",
    "        \n",
    "    return article_content"
   ]
  },
  {
   "cell_type": "code",
   "execution_count": 18,
   "metadata": {},
   "outputs": [
    {
     "name": "stdout",
     "output_type": "stream",
     "text": [
      "[<selenium.webdriver.remote.webelement.WebElement (session=\"ed4204fcfeb1ba7149bd217d9ad9e5ca\", element=\"f.4E3F3CAD2E945F2BC89F1668C4FBD445.d.DCE61D173FA1E9956DE756A3656086BD.e.80\")>, <selenium.webdriver.remote.webelement.WebElement (session=\"ed4204fcfeb1ba7149bd217d9ad9e5ca\", element=\"f.4E3F3CAD2E945F2BC89F1668C4FBD445.d.DCE61D173FA1E9956DE756A3656086BD.e.81\")>, <selenium.webdriver.remote.webelement.WebElement (session=\"ed4204fcfeb1ba7149bd217d9ad9e5ca\", element=\"f.4E3F3CAD2E945F2BC89F1668C4FBD445.d.DCE61D173FA1E9956DE756A3656086BD.e.82\")>]\n"
     ]
    },
    {
     "data": {
      "text/plain": [
       "[]"
      ]
     },
     "execution_count": 18,
     "metadata": {},
     "output_type": "execute_result"
    }
   ],
   "source": [
    "get_nytimes_article('https://www.nytimes.com/2024/05/23/business/apple-iphone-settlement.html')"
   ]
  },
  {
   "cell_type": "markdown",
   "metadata": {},
   "source": [
    "#### Parse articles"
   ]
  },
  {
   "cell_type": "code",
   "execution_count": null,
   "metadata": {},
   "outputs": [],
   "source": [
    "articles_index = []\n",
    "\n",
    "for target_article in news_titles:\n",
    "    driver.get(target_article[1])\n",
    "    article_content_area = driver.find_elements(By.CLASS_NAME, 'caas-body')\n",
    "    if len(article_content_area) == 0:\n",
    "        continue\n",
    "\n",
    "    article_content = []\n",
    "    contents_components = article_content_area[0].find_elements(By.TAG_NAME, 'p')\n",
    "\n",
    "    for component in contents_components:\n",
    "        content = component.text\n",
    "        if len(content) != 0:\n",
    "            article_content.append(content)\n",
    "    \n",
    "    articles_index.append((target_article[0], article_content))\n",
    "    print(\"Article parsed : \" + target_article[0])"
   ]
  },
  {
   "cell_type": "markdown",
   "metadata": {},
   "source": [
    "#### **Save loaded article contents as file**"
   ]
  },
  {
   "cell_type": "code",
   "execution_count": null,
   "metadata": {},
   "outputs": [],
   "source": [
    "import os\n",
    "\n",
    "article_base_path = os.path.abspath('./output/' + datetime.datetime.now().strftime('%Y%m%d_%H%M%S') + '/') + '/'\n",
    "os.mkdir(article_base_path)\n",
    "\n",
    "for index in range(0, len(articles_index)):\n",
    "    article = articles_index[index]\n",
    "    article_path = article_base_path + str(index) + '.txt'\n",
    "\n",
    "    with open(article_path, 'w', encoding='utf-8') as f:\n",
    "        f.write(article[0] + '\\n\\n')\n",
    "        f.write('\\n'.join([index for index in article[1]]))\n",
    "        f.close()"
   ]
  },
  {
   "cell_type": "markdown",
   "metadata": {},
   "source": [
    "#### **Predict positive/negative using FinBERT model**"
   ]
  },
  {
   "cell_type": "code",
   "execution_count": null,
   "metadata": {},
   "outputs": [],
   "source": [
    "model_path = os.path.abspath('./finbert_model')\n",
    "model = AutoModelForSequenceClassification.from_pretrained(model_path, num_labels=3, cache_dir=None)\n",
    "\n",
    "output_path = os.path.abspath('./output/' + datetime.datetime.now().strftime('%Y%m%d_%H%M%S') + '_output/') + '/'\n",
    "os.mkdir(output_path)\n",
    "for index in range(0, len(articles_index)):\n",
    "    article = articles_index[index]\n",
    "    output_filepath = output_path + str(index) + '.csv'\n",
    "\n",
    "    print(article[1])\n",
    "    predict('\\n'.join(article[1]), model, write_to_csv=True, path=output_filepath)"
   ]
  }
 ],
 "metadata": {
  "kernelspec": {
   "display_name": "Python 3 (ipykernel)",
   "language": "python",
   "name": "python3"
  },
  "language_info": {
   "codemirror_mode": {
    "name": "ipython",
    "version": 3
   },
   "file_extension": ".py",
   "mimetype": "text/x-python",
   "name": "python",
   "nbconvert_exporter": "python",
   "pygments_lexer": "ipython3",
   "version": "3.7.1"
  }
 },
 "nbformat": 4,
 "nbformat_minor": 2
}
